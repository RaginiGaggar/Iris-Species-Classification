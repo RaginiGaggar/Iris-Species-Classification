{
 "cells": [
  {
   "cell_type": "code",
   "execution_count": 121,
   "id": "2df99950-dcb1-471d-b066-c921f69549f4",
   "metadata": {},
   "outputs": [],
   "source": [
    "import numpy as np\n",
    "import pandas as pd\n",
    "import seaborn as sns\n",
    "import matplotlib.pyplot as plt\n",
    "from sklearn import datasets\n",
    "from sklearn.model_selection import train_test_split, GridSearchCV\n",
    "from sklearn.preprocessing import StandardScaler\n",
    "from sklearn.ensemble import RandomForestClassifier\n",
    "from sklearn.svm import SVC\n",
    "from sklearn import metrics\n",
    "from sklearn.metrics import accuracy_score, confusion_matrix, classification_report\n",
    "from tabulate import tabulate\n",
    "import warnings\n",
    "\n",
    "warnings.filterwarnings(\"ignore\")"
   ]
  },
  {
   "cell_type": "code",
   "execution_count": 123,
   "id": "a881bd58-8969-4135-bf12-430615366681",
   "metadata": {},
   "outputs": [
    {
     "name": "stdout",
     "output_type": "stream",
     "text": [
      "Dataset Overview:\n",
      "\n",
      "+---+-------------------+------------------+-------------------+------------------+--------+---------+\n",
      "|   | sepal length (cm) | sepal width (cm) | petal length (cm) | petal width (cm) | target | species |\n",
      "+---+-------------------+------------------+-------------------+------------------+--------+---------+\n",
      "| 0 |        5.1        |       3.5        |        1.4        |       0.2        |   0    | Setosa  |\n",
      "| 1 |        4.9        |       3.0        |        1.4        |       0.2        |   0    | Setosa  |\n",
      "| 2 |        4.7        |       3.2        |        1.3        |       0.2        |   0    | Setosa  |\n",
      "| 3 |        4.6        |       3.1        |        1.5        |       0.2        |   0    | Setosa  |\n",
      "| 4 |        5.0        |       3.6        |        1.4        |       0.2        |   0    | Setosa  |\n",
      "+---+-------------------+------------------+-------------------+------------------+--------+---------+\n"
     ]
    },
    {
     "data": {
      "image/png": "[encoded data removed]",
      "text/plain": [
       "<Figure size 600x400 with 1 Axes>"
      ]
     },
     "metadata": {},
     "output_type": "display_data"
    }
   ],
   "source": [
    "# Load the Iris dataset\n",
    "iris = datasets.load_iris()\n",
    "df = pd.DataFrame(data=iris.data, columns=iris.feature_names)\n",
    "df[\"target\"] = iris.target\n",
    "df[\"species\"] = df[\"target\"].map({0: \"Setosa\", 1: \"Versicolor\", 2: \"Virginica\"})\n",
    "\n",
    "# Display dataset overview\n",
    "print(\"Dataset Overview:\\n\")\n",
    "print(tabulate(df.head(), headers=\"keys\", tablefmt=\"pretty\"))\n",
    "\n",
    "# Class distribution visualization\n",
    "plt.figure(figsize=(6, 4))\n",
    "sns.countplot(x=df[\"species\"], palette=\"pastel\")\n",
    "plt.title(\"Class Distribution\", fontsize=14)\n",
    "plt.xlabel(\"Species\", fontsize=12)\n",
    "plt.ylabel(\"Count\", fontsize=12)\n",
    "plt.show()"
   ]
  },
  {
   "cell_type": "code",
   "execution_count": 125,
   "id": "cc4fb94f-6be5-48cf-8986-e703877005bd",
   "metadata": {},
   "outputs": [
    {
     "name": "stdout",
     "output_type": "stream",
     "text": [
      " Missing values in dataset:\n",
      " sepal length (cm)    0\n",
      "sepal width (cm)     0\n",
      "petal length (cm)    0\n",
      "petal width (cm)     0\n",
      "target               0\n",
      "species              0\n",
      "dtype: int64\n",
      "\n",
      " Feature Values Before Scaling:\n",
      "\n"
     ]
    },
    {
     "data": {
      "text/html": [
       "<div>\n",
       "<style scoped>\n",
       "    .dataframe tbody tr th:only-of-type {\n",
       "        vertical-align: middle;\n",
       "    }\n",
       "\n",
       "    .dataframe tbody tr th {\n",
       "        vertical-align: top;\n",
       "    }\n",
       "\n",
       "    .dataframe thead th {\n",
       "        text-align: right;\n",
       "    }\n",
       "</style>\n",
       "<table border=\"1\" class=\"dataframe\">\n",
       "  <thead>\n",
       "    <tr style=\"text-align: right;\">\n",
       "      <th></th>\n",
       "      <th>sepal length (cm)</th>\n",
       "      <th>sepal width (cm)</th>\n",
       "      <th>petal length (cm)</th>\n",
       "      <th>petal width (cm)</th>\n",
       "    </tr>\n",
       "  </thead>\n",
       "  <tbody>\n",
       "    <tr>\n",
       "      <th>0</th>\n",
       "      <td>5.1</td>\n",
       "      <td>3.5</td>\n",
       "      <td>1.4</td>\n",
       "      <td>0.2</td>\n",
       "    </tr>\n",
       "    <tr>\n",
       "      <th>1</th>\n",
       "      <td>4.9</td>\n",
       "      <td>3.0</td>\n",
       "      <td>1.4</td>\n",
       "      <td>0.2</td>\n",
       "    </tr>\n",
       "    <tr>\n",
       "      <th>2</th>\n",
       "      <td>4.7</td>\n",
       "      <td>3.2</td>\n",
       "      <td>1.3</td>\n",
       "      <td>0.2</td>\n",
       "    </tr>\n",
       "    <tr>\n",
       "      <th>3</th>\n",
       "      <td>4.6</td>\n",
       "      <td>3.1</td>\n",
       "      <td>1.5</td>\n",
       "      <td>0.2</td>\n",
       "    </tr>\n",
       "    <tr>\n",
       "      <th>4</th>\n",
       "      <td>5.0</td>\n",
       "      <td>3.6</td>\n",
       "      <td>1.4</td>\n",
       "      <td>0.2</td>\n",
       "    </tr>\n",
       "  </tbody>\n",
       "</table>\n",
       "</div>"
      ],
      "text/plain": [
       "   sepal length (cm)  sepal width (cm)  petal length (cm)  petal width (cm)\n",
       "0                5.1               3.5                1.4               0.2\n",
       "1                4.9               3.0                1.4               0.2\n",
       "2                4.7               3.2                1.3               0.2\n",
       "3                4.6               3.1                1.5               0.2\n",
       "4                5.0               3.6                1.4               0.2"
      ]
     },
     "metadata": {},
     "output_type": "display_data"
    },
    {
     "name": "stdout",
     "output_type": "stream",
     "text": [
      "\n",
      " Feature Values After Scaling (Training Set):\n",
      "\n"
     ]
    },
    {
     "data": {
      "text/html": [
       "<div>\n",
       "<style scoped>\n",
       "    .dataframe tbody tr th:only-of-type {\n",
       "        vertical-align: middle;\n",
       "    }\n",
       "\n",
       "    .dataframe tbody tr th {\n",
       "        vertical-align: top;\n",
       "    }\n",
       "\n",
       "    .dataframe thead th {\n",
       "        text-align: right;\n",
       "    }\n",
       "</style>\n",
       "<table border=\"1\" class=\"dataframe\">\n",
       "  <thead>\n",
       "    <tr style=\"text-align: right;\">\n",
       "      <th></th>\n",
       "      <th>sepal length (cm)</th>\n",
       "      <th>sepal width (cm)</th>\n",
       "      <th>petal length (cm)</th>\n",
       "      <th>petal width (cm)</th>\n",
       "    </tr>\n",
       "  </thead>\n",
       "  <tbody>\n",
       "    <tr>\n",
       "      <th>0</th>\n",
       "      <td>-1.473937</td>\n",
       "      <td>1.203658</td>\n",
       "      <td>-1.562535</td>\n",
       "      <td>-1.312603</td>\n",
       "    </tr>\n",
       "    <tr>\n",
       "      <th>1</th>\n",
       "      <td>-0.133071</td>\n",
       "      <td>2.992376</td>\n",
       "      <td>-1.276006</td>\n",
       "      <td>-1.045633</td>\n",
       "    </tr>\n",
       "    <tr>\n",
       "      <th>2</th>\n",
       "      <td>1.085898</td>\n",
       "      <td>0.085709</td>\n",
       "      <td>0.385858</td>\n",
       "      <td>0.289218</td>\n",
       "    </tr>\n",
       "    <tr>\n",
       "      <th>3</th>\n",
       "      <td>-1.230143</td>\n",
       "      <td>0.756479</td>\n",
       "      <td>-1.218701</td>\n",
       "      <td>-1.312603</td>\n",
       "    </tr>\n",
       "    <tr>\n",
       "      <th>4</th>\n",
       "      <td>-1.717731</td>\n",
       "      <td>0.309299</td>\n",
       "      <td>-1.390618</td>\n",
       "      <td>-1.312603</td>\n",
       "    </tr>\n",
       "  </tbody>\n",
       "</table>\n",
       "</div>"
      ],
      "text/plain": [
       "   sepal length (cm)  sepal width (cm)  petal length (cm)  petal width (cm)\n",
       "0          -1.473937          1.203658          -1.562535         -1.312603\n",
       "1          -0.133071          2.992376          -1.276006         -1.045633\n",
       "2           1.085898          0.085709           0.385858          0.289218\n",
       "3          -1.230143          0.756479          -1.218701         -1.312603\n",
       "4          -1.717731          0.309299          -1.390618         -1.312603"
      ]
     },
     "metadata": {},
     "output_type": "display_data"
    },
    {
     "name": "stdout",
     "output_type": "stream",
     "text": [
      "\n",
      " Data Preprocessing Completed! Feature scaling applied.\n"
     ]
    }
   ],
   "source": [
    "# Check for missing values\n",
    "print(\" Missing values in dataset:\\n\", df.isnull().sum())\n",
    "\n",
    "# Splitting Features and Target\n",
    "X = df.iloc[:, :-2]  # Select all features (excluding target and species columns)\n",
    "y = df[\"target\"]  # Target labels\n",
    "\n",
    "# Display table before scaling\n",
    "df_before_scaling = pd.DataFrame(X, columns=X.columns)\n",
    "print(\"\\n Feature Values Before Scaling:\\n\")\n",
    "display(df_before_scaling.head(5))\n",
    "\n",
    "# Train-Test Split (before scaling)\n",
    "X_train, X_test, y_train, y_test = train_test_split(X, y, test_size=0.2, random_state=42)\n",
    "\n",
    "# Feature Scaling (Standardization)\n",
    "scaler = StandardScaler()\n",
    "X_train_scaled = scaler.fit_transform(X_train)  # Fit and transform training data\n",
    "X_test_scaled = scaler.transform(X_test)  # Only transform test data\n",
    "\n",
    "# Convert scaled data back into DataFrame for better readability\n",
    "df_after_scaling = pd.DataFrame(X_train_scaled, columns=X.columns)\n",
    "print(\"\\n Feature Values After Scaling (Training Set):\\n\")\n",
    "display(df_after_scaling.head(5))  # Show first 5 rows after scaling\n",
    "\n",
    "print(\"\\n Data Preprocessing Completed! Feature scaling applied.\")"
   ]
  },
  {
   "cell_type": "code",
   "execution_count": 127,
   "id": "62df63d7-4140-4db4-9895-dd4c321188eb",
   "metadata": {},
   "outputs": [
    {
     "name": "stdout",
     "output_type": "stream",
     "text": [
      "\n",
      " Random Forest Accuracy: 1.0000\n",
      "\n",
      " Random Forest Classification Report:\n",
      "\n",
      "+--------------+-----------+--------+----------+---------+\n",
      "|              | precision | recall | f1-score | support |\n",
      "+--------------+-----------+--------+----------+---------+\n",
      "|      0       |    1.0    |  1.0   |   1.0    |  10.0   |\n",
      "|      1       |    1.0    |  1.0   |   1.0    |   9.0   |\n",
      "|      2       |    1.0    |  1.0   |   1.0    |  11.0   |\n",
      "|   accuracy   |    1.0    |  1.0   |   1.0    |   1.0   |\n",
      "|  macro avg   |    1.0    |  1.0   |   1.0    |  30.0   |\n",
      "| weighted avg |    1.0    |  1.0   |   1.0    |  30.0   |\n",
      "+--------------+-----------+--------+----------+---------+\n"
     ]
    },
    {
     "data": {
      "image/png": "[encoded data removed]",
      "text/plain": [
       "<Figure size 500x400 with 2 Axes>"
      ]
     },
     "metadata": {},
     "output_type": "display_data"
    }
   ],
   "source": [
    "# Train Random Forest Model\n",
    "rf_clf = RandomForestClassifier(n_estimators=100, max_depth=10, criterion=\"gini\", random_state=42)\n",
    "rf_clf.fit(X_train, y_train)\n",
    "\n",
    "# Predictions\n",
    "rf_pred = rf_clf.predict(X_test)\n",
    "\n",
    "# Performance Metrics\n",
    "rf_acc = metrics.accuracy_score(y_test, rf_pred)\n",
    "rf_cm = metrics.confusion_matrix(y_test, rf_pred)\n",
    "rf_report = metrics.classification_report(y_test, rf_pred, output_dict=True)\n",
    "\n",
    "print(f\"\\n Random Forest Accuracy: {rf_acc:.4f}\")\n",
    "print(\"\\n Random Forest Classification Report:\\n\")\n",
    "print(tabulate(pd.DataFrame(rf_report).T, headers=\"keys\", tablefmt=\"pretty\"))\n",
    "\n",
    "# Confusion Matrix Visualization\n",
    "plt.figure(figsize=(5, 4))\n",
    "sns.heatmap(rf_cm, annot=True, cmap=\"Blues\", fmt=\"d\", xticklabels=iris.target_names, yticklabels=iris.target_names)\n",
    "plt.title(\"Random Forest - Confusion Matrix\")\n",
    "plt.xlabel(\"Predicted\")\n",
    "plt.ylabel(\"Actual\")\n",
    "plt.show()"
   ]
  },
  {
   "cell_type": "code",
   "execution_count": 129,
   "id": "063d6eef-20d5-4057-b766-3ad6f28d451a",
   "metadata": {},
   "outputs": [
    {
     "name": "stdout",
     "output_type": "stream",
     "text": [
      "\n",
      " SVM Accuracy: 1.0000\n",
      "\n",
      " SVM Classification Report:\n",
      "\n",
      "+--------------+-----------+--------+----------+---------+\n",
      "|              | precision | recall | f1-score | support |\n",
      "+--------------+-----------+--------+----------+---------+\n",
      "|      0       |    1.0    |  1.0   |   1.0    |  10.0   |\n",
      "|      1       |    1.0    |  1.0   |   1.0    |   9.0   |\n",
      "|      2       |    1.0    |  1.0   |   1.0    |  11.0   |\n",
      "|   accuracy   |    1.0    |  1.0   |   1.0    |   1.0   |\n",
      "|  macro avg   |    1.0    |  1.0   |   1.0    |  30.0   |\n",
      "| weighted avg |    1.0    |  1.0   |   1.0    |  30.0   |\n",
      "+--------------+-----------+--------+----------+---------+\n"
     ]
    },
    {
     "data": {
      "image/png": "[encoded data removed]",
      "text/plain": [
       "<Figure size 500x400 with 2 Axes>"
      ]
     },
     "metadata": {},
     "output_type": "display_data"
    }
   ],
   "source": [
    "# Train SVM Model\n",
    "svm_clf = SVC(kernel='rbf', C=1.0, gamma='scale')\n",
    "svm_clf.fit(X_train, y_train)\n",
    "\n",
    "# Predictions\n",
    "svm_pred = svm_clf.predict(X_test)\n",
    "\n",
    "# Performance Metrics\n",
    "svm_acc = metrics.accuracy_score(y_test, svm_pred)\n",
    "svm_cm = metrics.confusion_matrix(y_test, svm_pred)\n",
    "svm_report = metrics.classification_report(y_test, svm_pred, output_dict=True)\n",
    "\n",
    "print(f\"\\n SVM Accuracy: {svm_acc:.4f}\")\n",
    "print(\"\\n SVM Classification Report:\\n\")\n",
    "print(tabulate(pd.DataFrame(svm_report).T, headers=\"keys\", tablefmt=\"pretty\"))\n",
    "\n",
    "# Confusion Matrix Visualization\n",
    "plt.figure(figsize=(5, 4))\n",
    "sns.heatmap(svm_cm, annot=True, cmap=\"Purples\", fmt=\"d\", xticklabels=iris.target_names, yticklabels=iris.target_names)\n",
    "plt.title(\"SVM - Confusion Matrix\")\n",
    "plt.xlabel(\"Predicted\")\n",
    "plt.ylabel(\"Actual\")\n",
    "plt.show()"
   ]
  },
  {
   "cell_type": "code",
   "execution_count": 131,
   "id": "ab291994-2744-4cfe-bac9-d8a4294a2ae1",
   "metadata": {},
   "outputs": [],
   "source": [
    "# Function to evaluate models\n",
    "def evaluate_model(model, X_test, y_test, model_name):\n",
    "    y_pred = model.predict(X_test)\n",
    "\n",
    "    print(f\"\\n Model: {model_name}\")\n",
    "    print(\"-\" * 40)\n",
    "\n",
    "    # Accuracy Score\n",
    "    accuracy = accuracy_score(y_test, y_pred)\n",
    "    print(f\" Accuracy: {accuracy:.4f}\")\n",
    "\n",
    "    # Confusion Matrix\n",
    "    cm = confusion_matrix(y_test, y_pred)\n",
    "    print(\"\\n Confusion Matrix:\")\n",
    "    display(pd.DataFrame(cm, columns=[\"Predicted 0\", \"Predicted 1\", \"Predicted 2\"], \n",
    "                         index=[\"Actual 0\", \"Actual 1\", \"Actual 2\"]))\n",
    "\n",
    "    # Precision, Recall, F1-Score\n",
    "    print(\"\\n Classification Report:\")\n",
    "    print(classification_report(y_test, y_pred, target_names=['Setosa', 'Versicolor', 'Virginica']))"
   ]
  },
  {
   "cell_type": "code",
   "execution_count": 133,
   "id": "fa6a9e9e-a8c8-45cd-959c-c5de2ed5f71e",
   "metadata": {},
   "outputs": [
    {
     "name": "stdout",
     "output_type": "stream",
     "text": [
      "\n",
      " Model: Support Vector Machine\n",
      "----------------------------------------\n",
      " Accuracy: 0.1333\n",
      "\n",
      " Confusion Matrix:\n"
     ]
    },
    {
     "data": {
      "text/html": [
       "<div>\n",
       "<style scoped>\n",
       "    .dataframe tbody tr th:only-of-type {\n",
       "        vertical-align: middle;\n",
       "    }\n",
       "\n",
       "    .dataframe tbody tr th {\n",
       "        vertical-align: top;\n",
       "    }\n",
       "\n",
       "    .dataframe thead th {\n",
       "        text-align: right;\n",
       "    }\n",
       "</style>\n",
       "<table border=\"1\" class=\"dataframe\">\n",
       "  <thead>\n",
       "    <tr style=\"text-align: right;\">\n",
       "      <th></th>\n",
       "      <th>Predicted 0</th>\n",
       "      <th>Predicted 1</th>\n",
       "      <th>Predicted 2</th>\n",
       "    </tr>\n",
       "  </thead>\n",
       "  <tbody>\n",
       "    <tr>\n",
       "      <th>Actual 0</th>\n",
       "      <td>4</td>\n",
       "      <td>0</td>\n",
       "      <td>6</td>\n",
       "    </tr>\n",
       "    <tr>\n",
       "      <th>Actual 1</th>\n",
       "      <td>7</td>\n",
       "      <td>0</td>\n",
       "      <td>2</td>\n",
       "    </tr>\n",
       "    <tr>\n",
       "      <th>Actual 2</th>\n",
       "      <td>10</td>\n",
       "      <td>1</td>\n",
       "      <td>0</td>\n",
       "    </tr>\n",
       "  </tbody>\n",
       "</table>\n",
       "</div>"
      ],
      "text/plain": [
       "          Predicted 0  Predicted 1  Predicted 2\n",
       "Actual 0            4            0            6\n",
       "Actual 1            7            0            2\n",
       "Actual 2           10            1            0"
      ]
     },
     "metadata": {},
     "output_type": "display_data"
    },
    {
     "name": "stdout",
     "output_type": "stream",
     "text": [
      "\n",
      " Classification Report:\n",
      "              precision    recall  f1-score   support\n",
      "\n",
      "      Setosa       0.19      0.40      0.26        10\n",
      "  Versicolor       0.00      0.00      0.00         9\n",
      "   Virginica       0.00      0.00      0.00        11\n",
      "\n",
      "    accuracy                           0.13        30\n",
      "   macro avg       0.06      0.13      0.09        30\n",
      "weighted avg       0.06      0.13      0.09        30\n",
      "\n",
      "\n",
      " Model: Random Forest\n",
      "----------------------------------------\n",
      " Accuracy: 0.3333\n",
      "\n",
      " Confusion Matrix:\n"
     ]
    },
    {
     "data": {
      "text/html": [
       "<div>\n",
       "<style scoped>\n",
       "    .dataframe tbody tr th:only-of-type {\n",
       "        vertical-align: middle;\n",
       "    }\n",
       "\n",
       "    .dataframe tbody tr th {\n",
       "        vertical-align: top;\n",
       "    }\n",
       "\n",
       "    .dataframe thead th {\n",
       "        text-align: right;\n",
       "    }\n",
       "</style>\n",
       "<table border=\"1\" class=\"dataframe\">\n",
       "  <thead>\n",
       "    <tr style=\"text-align: right;\">\n",
       "      <th></th>\n",
       "      <th>Predicted 0</th>\n",
       "      <th>Predicted 1</th>\n",
       "      <th>Predicted 2</th>\n",
       "    </tr>\n",
       "  </thead>\n",
       "  <tbody>\n",
       "    <tr>\n",
       "      <th>Actual 0</th>\n",
       "      <td>10</td>\n",
       "      <td>0</td>\n",
       "      <td>0</td>\n",
       "    </tr>\n",
       "    <tr>\n",
       "      <th>Actual 1</th>\n",
       "      <td>9</td>\n",
       "      <td>0</td>\n",
       "      <td>0</td>\n",
       "    </tr>\n",
       "    <tr>\n",
       "      <th>Actual 2</th>\n",
       "      <td>11</td>\n",
       "      <td>0</td>\n",
       "      <td>0</td>\n",
       "    </tr>\n",
       "  </tbody>\n",
       "</table>\n",
       "</div>"
      ],
      "text/plain": [
       "          Predicted 0  Predicted 1  Predicted 2\n",
       "Actual 0           10            0            0\n",
       "Actual 1            9            0            0\n",
       "Actual 2           11            0            0"
      ]
     },
     "metadata": {},
     "output_type": "display_data"
    },
    {
     "name": "stdout",
     "output_type": "stream",
     "text": [
      "\n",
      " Classification Report:\n",
      "              precision    recall  f1-score   support\n",
      "\n",
      "      Setosa       0.33      1.00      0.50        10\n",
      "  Versicolor       0.00      0.00      0.00         9\n",
      "   Virginica       0.00      0.00      0.00        11\n",
      "\n",
      "    accuracy                           0.33        30\n",
      "   macro avg       0.11      0.33      0.17        30\n",
      "weighted avg       0.11      0.33      0.17        30\n",
      "\n"
     ]
    }
   ],
   "source": [
    "# Evaluate both models\n",
    "evaluate_model(svm_clf, X_test_scaled, y_test, \"Support Vector Machine\")\n",
    "evaluate_model(rf_clf, X_test_scaled, y_test, \"Random Forest\")"
   ]
  },
  {
   "cell_type": "code",
   "execution_count": 135,
   "id": "f6c15422-0664-4051-a99b-acdd52ef9efc",
   "metadata": {},
   "outputs": [
    {
     "name": "stdout",
     "output_type": "stream",
     "text": [
      "Precision: 1.0000\n",
      "Recall: 1.0000\n"
     ]
    }
   ],
   "source": [
    "# Predictions on test data\n",
    "y_pred = rf_clf.predict(X_test)  # Ensure 'rf_clf' is used as trained classifier\n",
    "\n",
    "# Compute Precision & Recall\n",
    "precision = metrics.precision_score(y_test, y_pred, average=\"weighted\")\n",
    "recall = metrics.recall_score(y_test, y_pred, average=\"weighted\")\n",
    "\n",
    "print(f\"Precision: {precision:.4f}\")\n",
    "print(f\"Recall: {recall:.4f}\")"
   ]
  },
  {
   "cell_type": "code",
   "execution_count": 137,
   "id": "0f45a7b7-118d-44b4-b5e8-6b2f34d78fdb",
   "metadata": {},
   "outputs": [
    {
     "name": "stdout",
     "output_type": "stream",
     "text": [
      "\n",
      " Best Parameters:\n",
      "🔹 Random Forest: {'criterion': 'gini', 'max_depth': None, 'n_estimators': 10}\n",
      "🔹 SVM: {'C': 1, 'gamma': 'scale', 'kernel': 'linear'}\n"
     ]
    }
   ],
   "source": [
    "# Hyperparameter Tuning for Random Forest\n",
    "rf_params = {\n",
    "    \"n_estimators\": [10, 50, 100],\n",
    "    \"max_depth\": [5, 10, None],\n",
    "    \"criterion\": [\"gini\", \"entropy\"]\n",
    "}\n",
    "grid_rf = GridSearchCV(RandomForestClassifier(), rf_params, cv=5, scoring='accuracy')\n",
    "grid_rf.fit(X_train, y_train)\n",
    "\n",
    "# Hyperparameter Tuning for SVM\n",
    "svm_params = {\n",
    "    \"C\": [0.1, 1, 10],\n",
    "    \"kernel\": [\"linear\", \"rbf\"],\n",
    "    \"gamma\": [\"scale\", \"auto\"]\n",
    "}\n",
    "grid_svm = GridSearchCV(SVC(), svm_params, cv=5, scoring='accuracy')\n",
    "grid_svm.fit(X_train, y_train)\n",
    "\n",
    "print(\"\\n Best Parameters:\")\n",
    "print(f\"🔹 Random Forest: {grid_rf.best_params_}\")\n",
    "print(f\"🔹 SVM: {grid_svm.best_params_}\")"
   ]
  },
  {
   "cell_type": "code",
   "execution_count": 139,
   "id": "5fd5a6fe-4cd1-420a-a086-8dfb78c377df",
   "metadata": {},
   "outputs": [],
   "source": [
    "# Compare the optimized models\n",
    "rf_best_acc = metrics.accuracy_score(y_test, grid_rf.best_estimator_.predict(X_test))\n",
    "svm_best_acc = metrics.accuracy_score(y_test, grid_svm.best_estimator_.predict(X_test))"
   ]
  },
  {
   "cell_type": "code",
   "execution_count": 141,
   "id": "273d5f8f-f78f-4828-b53f-307ba6506a26",
   "metadata": {},
   "outputs": [
    {
     "data": {
      "image/png": "[encoded data removed]",
      "text/plain": [
       "<Figure size 600x400 with 1 Axes>"
      ]
     },
     "metadata": {},
     "output_type": "display_data"
    }
   ],
   "source": [
    "# Plot comparison\n",
    "models = [\"Random Forest\", \"SVM\"]\n",
    "accuracies = [rf_best_acc, svm_best_acc]\n",
    "\n",
    "plt.figure(figsize=(6, 4))\n",
    "sns.barplot(x=models, y=accuracies, palette=\"coolwarm\")\n",
    "plt.ylim(0, 1)\n",
    "plt.ylabel(\"Accuracy\")\n",
    "plt.title(\"Model Comparison (After Hyperparameter Tuning)\")\n",
    "plt.show()"
   ]
  }
 ],
 "metadata": {
  "kernelspec": {
   "display_name": "Python 3 (ipykernel)",
   "language": "python",
   "name": "python3"
  },
  "language_info": {
   "codemirror_mode": {
    "name": "ipython",
    "version": 3
   },
   "file_extension": ".py",
   "mimetype": "text/x-python",
   "name": "python",
   "nbconvert_exporter": "python",
   "pygments_lexer": "ipython3",
   "version": "3.12.4"
  }
 },
 "nbformat": 4,
 "nbformat_minor": 5
}
